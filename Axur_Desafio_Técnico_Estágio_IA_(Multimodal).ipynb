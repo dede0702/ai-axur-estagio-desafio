{
  "cells": [
    {
      "cell_type": "markdown",
      "metadata": {
        "id": "view-in-github",
        "colab_type": "text"
      },
      "source": [
        "<a href=\"https://colab.research.google.com/github/dede0702/ai-axur-estagio-desafio/blob/main/Axur_Desafio_T%C3%A9cnico_Est%C3%A1gio_IA_(Multimodal).ipynb\" target=\"_parent\"><img src=\"https://colab.research.google.com/assets/colab-badge.svg\" alt=\"Open In Colab\"/></a>"
      ]
    },
    {
      "cell_type": "markdown",
      "metadata": {
        "id": "vcYGqdVkithL"
      },
      "source": [
        "# Avaliação Técnica - Script Multimodal\n",
        "\n",
        "Este notebook realiza scraping de uma imagem, envia para inferência usando o modelo `microsoft-florence-2-large`, e submete a resposta via API."
      ]
    },
    {
      "cell_type": "code",
      "execution_count": null,
      "metadata": {
        "colab": {
          "base_uri": "https://localhost:8080/"
        },
        "id": "6Y7acfVDithR",
        "outputId": "826d28de-57f1-4b53-ab40-184b58e437e2"
      },
      "outputs": [
        {
          "output_type": "stream",
          "name": "stdout",
          "text": [
            "Requirement already satisfied: requests in /usr/local/lib/python3.11/dist-packages (2.32.3)\n",
            "Requirement already satisfied: beautifulsoup4 in /usr/local/lib/python3.11/dist-packages (4.13.4)\n",
            "Requirement already satisfied: charset-normalizer<4,>=2 in /usr/local/lib/python3.11/dist-packages (from requests) (3.4.2)\n",
            "Requirement already satisfied: idna<4,>=2.5 in /usr/local/lib/python3.11/dist-packages (from requests) (3.10)\n",
            "Requirement already satisfied: urllib3<3,>=1.21.1 in /usr/local/lib/python3.11/dist-packages (from requests) (2.4.0)\n",
            "Requirement already satisfied: certifi>=2017.4.17 in /usr/local/lib/python3.11/dist-packages (from requests) (2025.4.26)\n",
            "Requirement already satisfied: soupsieve>1.2 in /usr/local/lib/python3.11/dist-packages (from beautifulsoup4) (2.7)\n",
            "Requirement already satisfied: typing-extensions>=4.0.0 in /usr/local/lib/python3.11/dist-packages (from beautifulsoup4) (4.13.2)\n"
          ]
        }
      ],
      "source": [
        "# 📦 Instalar dependências (se necessário)\n",
        "!pip install requests beautifulsoup4"
      ]
    },
    {
      "cell_type": "code",
      "execution_count": null,
      "metadata": {
        "id": "JQAUN8fuithV"
      },
      "outputs": [],
      "source": [
        "# 🔧 Importações e configurações\n",
        "import requests\n",
        "from bs4 import BeautifulSoup\n",
        "import base64\n",
        "import json\n",
        "\n"
      ]
    },
    {
      "source": [
        "# -------------------------------\n",
        "# 1. FAZER SCRAPING DA IMAGEM\n",
        "# -------------------------------\n",
        "print(\"🔍 Fazendo scraping da imagem...\")\n",
        "\n",
        "response = requests.get(SCRAPING_URL)\n",
        "soup = BeautifulSoup(response.content, \"html.parser\")\n",
        "img_tag = soup.find(\"img\")\n",
        "\n",
        "if not img_tag or not img_tag.get(\"src\"):\n",
        "    raise Exception(\"❌ Imagem não encontrada na página!\")\n",
        "\n",
        "image_url = img_tag[\"src\"]\n",
        "# Check if the src is a data URL or a standard URL\n",
        "if image_url.startswith(\"data:\"):\n",
        "    # If it's a data URL, use it directly\n",
        "    data_url = image_url\n",
        "    print(\"✅ Data URL da imagem encontrada.\")\n",
        "    # No need to download if it's a data URL, proceed to base64 conversion\n",
        "    # Extract base64 string from data URL\n",
        "    img_base64 = data_url.split(\",\")[1]\n",
        "    img_bytes = base64.b64decode(img_base64)\n",
        "else:\n",
        "    # If it's a standard URL, construct the full URL\n",
        "    if not image_url.startswith(\"http\"):\n",
        "        image_url = f\"https://intern.aiaxuropenings.com{image_url}\"\n",
        "    print(f\"✅ URL da imagem encontrada: {image_url}\")\n",
        "\n",
        "    # -------------------------------\n",
        "    # 2. DOWNLOAD E CONVERSÃO EM BASE64\n",
        "    # -------------------------------\n",
        "    print(\"📥 Baixando a imagem...\")\n",
        "    img_response = requests.get(image_url)\n",
        "    if img_response.status_code != 200:\n",
        "        raise Exception(\"❌ Erro ao baixar a imagem!\")\n",
        "\n",
        "    img_bytes = img_response.content\n",
        "    img_base64 = base64.b64encode(img_bytes).decode(\"utf-8\")\n",
        "    data_url = f\"data:image/jpeg;base64,{img_base64}\"\n",
        "\n",
        "# The rest of your code remains the same\n",
        "with open(\"imagem.jpg\", \"wb\") as f:\n",
        "    f.write(img_bytes)\n",
        "\n",
        "# 🤖 3. Enviar imagem para inferência com prompt multimodal\n",
        "payload = {\n",
        "    \"model\": \"microsoft-florence-2-large\",\n",
        "    \"messages\": [\n",
        "        {\n",
        "            \"role\": \"user\",\n",
        "            \"content\": [\n",
        "                {\"type\": \"text\", \"text\": \"<DETAILED_CAPTION>\"},\n",
        "                {\"type\": \"image_url\", \"image_url\": {\"url\": data_url}}  # Use data_url here\n",
        "            ]\n",
        "        }\n",
        "    ],\n",
        "    \"temperature\": 0.7\n",
        "}\n",
        "\n",
        "response = requests.post(INFERENCIA_API, headers=HEADERS, data=json.dumps(payload))\n",
        "\n",
        "if response.status_code != 200:\n",
        "    raise Exception(f\"Erro ao chamar modelo: {response.status_code}\\n{response.text}\")\n",
        "\n",
        "inference_result = response.json()\n",
        "print(json.dumps(inference_result, indent=2))\n",
        "\n",
        "# 📤 4. Submeter resposta recebida para avaliação\n",
        "submit_response = requests.post(SUBMISSAO_API, headers=HEADERS, json=inference_result)\n",
        "\n",
        "if submit_response.status_code == 200:\n",
        "    print(\"✅ Resposta submetida com sucesso!\")\n",
        "else:\n",
        "    print(f\"❌ Erro na submissão: {submit_response.status_code}\")\n",
        "    print(submit_response.text)"
      ],
      "cell_type": "code",
      "metadata": {
        "colab": {
          "base_uri": "https://localhost:8080/"
        },
        "id": "3L1m-G9inAQm",
        "outputId": "72756223-7e9d-417c-b0a2-0291fa485767"
      },
      "execution_count": null,
      "outputs": [
        {
          "output_type": "stream",
          "name": "stdout",
          "text": [
            "🔍 Fazendo scraping da imagem...\n",
            "✅ Data URL da imagem encontrada.\n",
            "{\n",
            "  \"choices\": [\n",
            "    {\n",
            "      \"finish_reason\": \"stop\",\n",
            "      \"index\": 0,\n",
            "      \"logprobs\": null,\n",
            "      \"message\": {\n",
            "        \"content\": \"This image depicts a vibrant fruit display in a supermarket. The arrangement is divided into three distinct sections, each showcasing a different color of apples:\\n\\n1. **Red Apples**: The left section features a large quantity of red apples, neatly organized on tiered shelves. These apples appear to be of a tart variety, possibly Granny Smith, characterized by their deep red color and crisp texture.\\n\\n2. **Green Apples**: Adjacent to the red apples, there are sections of green apples. These apples are less common, suggesting they may be Granny Smith or other varieties, again displaying a deep green color with a distinct flavor profile.\\n\\n3. **Mixed Apples**: At the center of the display is a mix of red and green apples. The mix creates an interesting pattern, with some red apples followed by green ones, suggesting a blend of flavors and textures.\\n\\nThe background includes additional produce such as tomatoes and possibly melons, but the focus remains on the neatly organized fruits in each section. Apples are well-presented, with clear identification tags attached to each section, indicating prices or varieties. The store setting is typical of a grocery store, with shelves and aisles visible, providing a commercial environment for customers to browse and select produce.\",\n",
            "        \"reasoning_content\": null,\n",
            "        \"role\": \"assistant\",\n",
            "        \"tool_calls\": []\n",
            "      },\n",
            "      \"stop_reason\": null\n",
            "    }\n",
            "  ],\n",
            "  \"created\": 1747760493,\n",
            "  \"id\": \"chatcmpl-4cef88558e7e4162b400bcc2296ca43f\",\n",
            "  \"model\": \"microsoft-florence-2-large\",\n",
            "  \"object\": \"chat.completion\",\n",
            "  \"prompt_logprobs\": null,\n",
            "  \"usage\": {\n",
            "    \"completion_tokens\": 249,\n",
            "    \"prompt_tokens\": 1063,\n",
            "    \"prompt_tokens_details\": null,\n",
            "    \"total_tokens\": 1312\n",
            "  }\n",
            "}\n",
            "✅ Resposta submetida com sucesso!\n"
          ]
        }
      ]
    }
  ],
  "metadata": {
    "kernelspec": {
      "display_name": "Python 3",
      "language": "python",
      "name": "python3"
    },
    "language_info": {
      "name": "python",
      "version": ""
    },
    "colab": {
      "provenance": [],
      "include_colab_link": true
    }
  },
  "nbformat": 4,
  "nbformat_minor": 0
}